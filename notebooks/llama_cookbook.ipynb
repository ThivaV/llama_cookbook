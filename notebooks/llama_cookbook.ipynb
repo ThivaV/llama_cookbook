{
 "cells": [
  {
   "cell_type": "code",
   "execution_count": null,
   "metadata": {},
   "outputs": [],
   "source": [
    "# download models from gdrive\n",
    "\n",
    "import os\n",
    "import gdown # type: ignore\n",
    "import tarfile\n",
    "\n",
    "source_URL = ''\n",
    "local_data_file = '../models/llama2_7b'\n",
    "untar_dir = './models/llama2_7b/'\n",
    "\n",
    "def download_file()->str:\n",
    "    '''\n",
    "    fetch data from url\n",
    "    '''\n",
    "\n",
    "    try:\n",
    "        dataset_url=source_URL\n",
    "        tar_download_dir=local_data_file\n",
    "\n",
    "        os.makedirs('artifacts/data_ingestion', exist_ok=True)\n",
    "        print(f'Downloading data from {dataset_url} into file {tar_download_dir}')\n",
    "\n",
    "        file_id = dataset_url.split(\"/\")[-2]\n",
    "        prefix = 'https://drive.google.com/uc?/export=download&id='\n",
    "        gdown.download(prefix+file_id, tar_download_dir)\n",
    "\n",
    "        print(f'Downloaded data from {dataset_url} into file {tar_download_dir}')\n",
    "    except Exception as e:\n",
    "        raise e\n",
    "    \n",
    "def extract_zip_file():\n",
    "    '''\n",
    "    zip_file_path: str\n",
    "    extracts the tar file into the data directory\n",
    "    function returns None\n",
    "    '''\n",
    "\n",
    "    untar_path = untar_dir\n",
    "    os.makedirs(untar_path, exist_ok=True)\n",
    "\n",
    "    file = tarfile.open(local_data_file)\n",
    "    file.extractall(untar_path)\n",
    "\n",
    "    tar_file = f'{local_data_file}/*.tar.gz'\n",
    "    os.remove(tar_file)"
   ]
  },
  {
   "cell_type": "code",
   "execution_count": null,
   "metadata": {},
   "outputs": [],
   "source": [
    "# download model from huggingface\n",
    "\n",
    "from huggingface_hub import hf_hub_download # type: ignore\n",
    "\n",
    "# Set model information\n",
    "repo_id = \"TheBloke/Llama-2-7b-Chat-GGUF\"\n",
    "model_file = \"llama-2-7b-chat.Q8_0.gguf\"\n",
    "\n",
    "# Download model\n",
    "model_path = hf_hub_download(repo_id=repo_id, filename=model_file, cache_dir=\"path/to/save\", timeout=120)\n",
    "\n",
    "print(f\"Model downloaded to: {model_path}\")"
   ]
  }
 ],
 "metadata": {
  "language_info": {
   "name": "python"
  }
 },
 "nbformat": 4,
 "nbformat_minor": 2
}
