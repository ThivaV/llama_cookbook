{
 "cells": [
  {
   "cell_type": "code",
   "execution_count": null,
   "metadata": {},
   "outputs": [],
   "source": [
    "from huggingface_hub import hf_hub_download\n",
    "\n",
    "# Set model information\n",
    "repo_id = \"TheBloke/Llama-2-7b-Chat-GGUF\"\n",
    "model_file = \"llama-2-7b-chat.Q8_0.gguf\"\n",
    "\n",
    "# Download model\n",
    "model_path = hf_hub_download(repo_id=repo_id, filename=model_file, cache_dir=\"path/to/save\", timeout=120)\n",
    "\n",
    "print(f\"Model downloaded to: {model_path}\")"
   ]
  }
 ],
 "metadata": {
  "language_info": {
   "name": "python"
  }
 },
 "nbformat": 4,
 "nbformat_minor": 2
}
